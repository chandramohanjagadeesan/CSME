{
 "cells": [
  {
   "cell_type": "markdown",
   "metadata": {},
   "source": [
    "# DSME Bonus Point Assignment I Part A\n",
    "<div style=\"text-align: right;font-size: 0.8em\">Document Version 1.0.0, released 2020-12-11</div>\n",
    "For task instructions, refer to the assignment PDF.\n",
    "\n",
    "* The parts of the code you are to implement are indicated via `# TODO` comments.\n",
    "* You can use the `# Test code` cells to verify your implementation. However note that these are not the unit tests used for grading.\n",
    "* Some cells create export file in the `solution/` folder. _Include whole `solution/` folder in your submission_.\n",
    "* DO NOT CLEAR THE OUTPUT of the notebook you are submitting!"
   ]
  },
  {
   "cell_type": "code",
   "execution_count": 14,
   "metadata": {},
   "outputs": [],
   "source": [
    "# General imports\n",
    "from pathlib import Path\n",
    "import pickle\n",
    "import numpy as np\n",
    "import matplotlib.pyplot as plt\n",
    "from tqdm.auto import tqdm\n",
    "\n",
    "# Create solution folder\n",
    "Path(\"solution/\").mkdir(exist_ok=True)"
   ]
  },
  {
   "cell_type": "markdown",
   "metadata": {},
   "source": [
    "## Question A1 - Neural Network Class\n",
    "In this task you will implement the building blocks of a simple neural network class.\n",
    "\n",
    "For simplicity's sake, this class will only allow feed forward networks.\n",
    "All individual operations, including activation functions, will be represented as layers in this model.\n",
    "The abstract `Layer` interface defines three methods:"
   ]
  },
  {
   "cell_type": "code",
   "execution_count": 15,
   "metadata": {},
   "outputs": [],
   "source": [
    "class Layer:\n",
    "    def forward(self, x):\n",
    "        \"\"\"Forward pass of the layer.\n",
    "        For convenience, input and output are stored in the layer. \n",
    "\n",
    "        Args:\n",
    "            x: Input for this layer. Shape is (batch_size, num_inputs).\n",
    "\n",
    "        Returns:\n",
    "            x: Output of this layer. Shape is (batch_size, num_outputs).\n",
    "        \"\"\"\n",
    "        raise NotImplementedError\n",
    "\n",
    "    def backward(self, gradient):\n",
    "        \"\"\"Backward pass of the layer.\n",
    "        The incoming gradients are stored in the layer. \n",
    "\n",
    "        Args:\n",
    "            gradient: Incoming gradient from the next layer. Shape is (batch_size, num_outputs).\n",
    "\n",
    "        Returns:\n",
    "            gradient: Gradient passed to previous layer. Shape is (batch_size, num_inputs).\n",
    "        \"\"\"\n",
    "        raise NotImplementedError\n",
    "\n",
    "    def update(self, learn_rate):\n",
    "        \"\"\"Perform weight update based on previously stored input and gradients.\n",
    "\n",
    "        Args:\n",
    "            learn_rate: Learn rate to use for the update.\n",
    "        \"\"\""
   ]
  },
  {
   "cell_type": "markdown",
   "metadata": {},
   "source": [
    "### a) Linear Layer"
   ]
  },
  {
   "cell_type": "code",
   "execution_count": 32,
   "metadata": {},
   "outputs": [],
   "source": [
    "class LinearLayer(Layer):\n",
    "    def __init__(self, input_dim, output_dim, seed=None):\n",
    "        \"\"\"Initialize the layer with random weights.\"\"\"\n",
    "        # Initialize weights with the He initializer\n",
    "        rnd = np.random.RandomState(seed).randn(input_dim, output_dim)\n",
    "        self.w = rnd * (2 / input_dim) \n",
    "        \n",
    "        # Initialize bias with zeros\n",
    "        self.b = np.zeros(output_dim)\n",
    "        \n",
    "    def forward(self, x):\n",
    "        \"\"\"Forward pass of the layer.\"\"\"\n",
    "        self.input = x # Store input\n",
    "        \n",
    "        # ********************\n",
    "        # TODO Compute output\n",
    "        # x = ...\n",
    "        \n",
    "        x = np.matmul(x,self.w) + self.b\n",
    "        \n",
    "        \n",
    "        # ********************\n",
    "        \n",
    "        self.output = x # Store output\n",
    "        return x\n",
    "    \n",
    "    def backward(self, gradient):\n",
    "        \"\"\"Backward pass of the layer.\"\"\"\n",
    "        self.gradient = gradient # Store incoming gradient\n",
    "        \n",
    "        # ********************\n",
    "        # TODO Apply transfer gradient\n",
    "        # gradient = ...\n",
    "        \n",
    "        gradient = np.matmul(gradient,self.w.T)\n",
    "        \n",
    "        \n",
    "        \n",
    "        # ********************\n",
    "        \n",
    "        return gradient\n",
    "    \n",
    "    def update(self, learn_rate):\n",
    "        \"\"\"Perform weight update\"\"\"\n",
    "        # ********************\n",
    "        # TODO Update weights and bias\n",
    "        # self.W = ...\n",
    "        # self.b = ...\n",
    "\n",
    "        # ********************"
   ]
  },
  {
   "cell_type": "code",
   "execution_count": 33,
   "metadata": {},
   "outputs": [
    {
     "data": {
      "text/plain": [
       "'ok'"
      ]
     },
     "execution_count": 33,
     "metadata": {},
     "output_type": "execute_result"
    }
   ],
   "source": [
    "# Test code\n",
    "_test_layer = LinearLayer(4, 5, seed=42)\n",
    "\n",
    "# Test forward pass\n",
    "np.testing.assert_array_almost_equal(_test_layer.forward(np.ones((1, 4))), [[-0.38156401, -0.01880618,  0.98566644, -0.88387442, -1.41440743]])\n",
    "\n",
    "# Test backward pass\n",
    "np.testing.assert_array_almost_equal(_test_layer.backward(np.ones((1, 5))), [[1.147507,  1.092798, -2.162692, -1.7906 ]])\n",
    "\n",
    "# Test update\n",
    "_test_layer.update(0.1)\n",
    "np.testing.assert_array_almost_equal(_test_layer.w, [[ 0.148357, -0.169132,  0.223844,  0.661515, -0.217077], [-0.217068,  0.689606,  0.283717, -0.334737,  0.17128 ], [-0.331709, -0.332865,  0.020981, -1.05664 , -0.962459], [-0.381144, -0.606416,  0.057124, -0.554012, -0.806152]])\n",
    "np.testing.assert_array_almost_equal(_test_layer.b, [-0.1, -0.1, -0.1, -0.1, -0.1])\n",
    "\"ok\""
   ]
  },
  {
   "cell_type": "markdown",
   "metadata": {},
   "source": [
    "### b) Implementing ReLU"
   ]
  },
  {
   "cell_type": "code",
   "execution_count": 89,
   "metadata": {},
   "outputs": [],
   "source": [
    "class ReLULayer(Layer):      \n",
    "    def forward(self, x):\n",
    "        \"\"\"Forward pass of the ReLU layer.\"\"\"\n",
    "        self.input = x # Store input\n",
    "        \n",
    "        # ********************\n",
    "        # TODO Compute output\n",
    "        # x = ...\n",
    "        \n",
    "        x = np.array(list(map(lambda y: y*np.greater(y,0),x)))\n",
    "        \n",
    "        # ********************\n",
    "        \n",
    "        self.output = x # Store output\n",
    "        return x\n",
    "    \n",
    "    def backward(self, gradient):\n",
    "        \"\"\"Backward pass of the ReLU layer.\"\"\"\n",
    "        self.gradient = gradient # Store incoming gradient\n",
    "        \n",
    "        # ********************\n",
    "        # TODO Apply transfer gradient\n",
    "        # gradient = ...\n",
    "        \n",
    "        # Lecture 8 Slide 14: The gradient is the upstream gradient\n",
    "        # times the local derivative.\n",
    "        #\n",
    "        # The upstream is passed to us as gradient and the\n",
    "        # local derivative for ReLU is always 0 or 1\n",
    "\n",
    "        gradient = np.multiply(gradient, np.float64(self.input > 0))\n",
    "        \n",
    "        \n",
    "        \n",
    "        # ********************\n",
    "        \n",
    "        return gradient"
   ]
  },
  {
   "cell_type": "code",
   "execution_count": 90,
   "metadata": {},
   "outputs": [
    {
     "data": {
      "text/plain": [
       "'ok'"
      ]
     },
     "execution_count": 90,
     "metadata": {},
     "output_type": "execute_result"
    }
   ],
   "source": [
    "# Test Code\n",
    "_test_layer = ReLULayer()\n",
    "\n",
    "# Test forward pass\n",
    "np.testing.assert_array_almost_equal(_test_layer.forward(np.arange(5)-2), [0, 0,  0, 1, 2])\n",
    "\n",
    "# Test backward pass\n",
    "assert np.array_equal(_test_layer.backward(np.ones(5)), [0, 0, 0, 1, 1]) or np.array_equal(_test_layer.backward(np.ones(5)), [0, 0, 1, 1, 1]), f\"backward expected {[0, 0, 1, 1, 1]} or {[0, 0, 0, 1, 1]}, but got {_test_layer.backward(np.ones(5))}\"\n",
    "\n",
    "\"ok\""
   ]
  },
  {
   "cell_type": "markdown",
   "metadata": {},
   "source": [
    "### c) Softmax Layer"
   ]
  },
  {
   "cell_type": "code",
   "execution_count": 91,
   "metadata": {},
   "outputs": [],
   "source": [
    "class SoftmaxLayer(Layer):      \n",
    "    def forward(self, x):\n",
    "        \"\"\"Forward pass of the softmax layer.\"\"\"\n",
    "        self.input = x # Store input\n",
    "        \n",
    "        # ********************\n",
    "        # TODO Compute output\n",
    "        # x = ...\n",
    "        # To avoid numerical overflow we subtract the highest value of x from each x so max value becomes 0 and max exponential becomes 1\n",
    "    \n",
    "        x = x - np.max(x)\n",
    "        x = np.exp(x)/np.sum(np.exp(x))\n",
    "        \n",
    "        # ********************\n",
    "        \n",
    "        self.output = x # Store output\n",
    "        return x"
   ]
  },
  {
   "cell_type": "code",
   "execution_count": 92,
   "metadata": {},
   "outputs": [
    {
     "data": {
      "text/plain": [
       "'ok'"
      ]
     },
     "execution_count": 92,
     "metadata": {},
     "output_type": "execute_result"
    }
   ],
   "source": [
    "# Test code\n",
    "_test_layer = SoftmaxLayer()\n",
    "\n",
    "# Test forward pass\n",
    "np.testing.assert_array_almost_equal(_test_layer.forward([[1, 1]]), [[0.5, 0.5]])\n",
    "np.testing.assert_array_almost_equal(_test_layer.forward([1, 2, 3]), [0.09003057, 0.24472847, 0.66524096])\n",
    "np.testing.assert_array_almost_equal(_test_layer.forward([0, 1, 2]), [0.09003057, 0.24472847, 0.66524096])\n",
    "np.testing.assert_array_almost_equal(_test_layer.forward([0]), [1])\n",
    "np.testing.assert_array_almost_equal(_test_layer.forward([0, 10, 100, 1e6]), [0, 0, 0, 1], err_msg=\"Overflow\")\n",
    "\n",
    "\"ok\""
   ]
  },
  {
   "cell_type": "markdown",
   "metadata": {},
   "source": [
    "### d) Completing the Network"
   ]
  },
  {
   "cell_type": "code",
   "execution_count": 44,
   "metadata": {},
   "outputs": [],
   "source": [
    "class FeedForwardNet:\n",
    "    def __init__(self, layers):\n",
    "        self.layers = layers\n",
    "    \n",
    "    def forward(self, x):\n",
    "        \"\"\"Forwar pass through the entire network.\"\"\"\n",
    "        # ********************\n",
    "        # TODO Compute output\n",
    "        # x = ...\n",
    "        \n",
    "        for i in range(len(self.layers)):\n",
    "            x = self.layers[i].forward(x)\n",
    "        \n",
    "        \n",
    "        # ********************\n",
    "        return x\n",
    "    \n",
    "    def backward(self, gradient):\n",
    "        \"\"\"Backward pass through the entire network.\"\"\"\n",
    "        # ********************\n",
    "        # TODO Back propagate gradients through all layers\n",
    "        \n",
    "        for i in range(len(self.layers) -1,-1,-1):\n",
    "            gradient = self.layers[i].backward(gradient)\n",
    "        \n",
    "        \n",
    "        # ********************\n",
    "\n",
    "    def train(self, x, target, learn_rate):\n",
    "        \"\"\"Train one batch.\"\"\"\n",
    "        gradient = self.forward(x) - target  # Assumes quadratic loss function\n",
    "        self.backward(gradient)  # Backprop\n",
    "        \n",
    "        # Update weights in all layers\n",
    "        for layer in self.layers:\n",
    "            layer.update(learn_rate)\n",
    "        "
   ]
  },
  {
   "cell_type": "code",
   "execution_count": 45,
   "metadata": {},
   "outputs": [
    {
     "data": {
      "text/plain": [
       "'ok'"
      ]
     },
     "execution_count": 45,
     "metadata": {},
     "output_type": "execute_result"
    }
   ],
   "source": [
    "# Test Code\n",
    "_test_net = FeedForwardNet([LinearLayer(4, 10, seed=0),\n",
    "                      ReLULayer(),\n",
    "                      LinearLayer(10, 3, seed=1),\n",
    "                      SoftmaxLayer(),\n",
    "                     ])\n",
    "np.testing.assert_array_almost_equal(_test_net.forward([1,2,3,4]), [0.27760362, 0.64002456, 0.08237182])\n",
    "\"ok\""
   ]
  },
  {
   "cell_type": "markdown",
   "metadata": {},
   "source": [
    "## Question A2 - Autoencoder on MNIST\n",
    "For more information about MNIST, refer to the assignment PDF.\n",
    "\n",
    "The next cell will download the dataset and show some examples images."
   ]
  },
  {
   "cell_type": "code",
   "execution_count": 138,
   "metadata": {},
   "outputs": [
    {
     "data": {
      "image/png": "[encoded data removed]",
      "text/plain": [
       "<Figure size 1152x144 with 10 Axes>"
      ]
     },
     "metadata": {
      "needs_background": "light"
     },
     "output_type": "display_data"
    }
   ],
   "source": [
    "import torch\n",
    "import torchvision\n",
    "from torchvision import transforms\n",
    "\n",
    "# Load MNIST dataset\n",
    "mnist = torchvision.datasets.MNIST(root='data/', download=True, transform=transforms.ToTensor())\n",
    "mnist_test = np.array([x.numpy() for x, y in torchvision.datasets.MNIST(root='data/', train=False, transform=transforms.ToTensor())]).reshape(-1, 28, 28)\n",
    "data_loader = torch.utils.data.DataLoader(mnist, batch_size=32, shuffle=True)\n",
    "\n",
    "# Show examples\n",
    "plt.figure(figsize=(16,2))\n",
    "for i in range(10):\n",
    "    plt.subplot(1, 10, i+1)\n",
    "    # Choose first example with the corresponding digit\n",
    "    example = next(x for x, y in mnist if y == i).reshape(28, 28)\n",
    "    plt.imshow(example, cmap=\"gray\", vmin=0, vmax=1)\n",
    "    plt.axis(\"off\")\n",
    "plt.tight_layout()"
   ]
  },
  {
   "cell_type": "markdown",
   "metadata": {},
   "source": [
    "### a) Build the Autoencoder"
   ]
  },
  {
   "cell_type": "code",
   "execution_count": 152,
   "metadata": {},
   "outputs": [],
   "source": [
    "# TODO Build autoencoder\n",
    "# autoencoder = FeedForwardNet(...\n",
    "\n",
    "autoencoder = FeedForwardNet([\n",
    "    LinearLayer(784, 384),ReLULayer(),\n",
    "    LinearLayer(384, 16),\n",
    "    LinearLayer(16, 384),ReLULayer(),\n",
    "    LinearLayer(384, 784)])\n"
   ]
  },
  {
   "cell_type": "code",
   "execution_count": 153,
   "metadata": {},
   "outputs": [
    {
     "data": {
      "text/plain": [
       "'ok'"
      ]
     },
     "execution_count": 153,
     "metadata": {},
     "output_type": "execute_result"
    }
   ],
   "source": [
    "# Test Code\n",
    "assert all(type(l) in [LinearLayer, ReLULayer] for l in autoencoder.layers), \"Only use Linear and ReLu layers\"\n",
    "assert autoencoder.layers[0].w.shape[0] == 784, \"Wrong size of input\"\n",
    "assert autoencoder.layers[-1].w.shape[1] == 784, \"Wrong size of output\"\n",
    "assert min(l.w.shape[0] for l in autoencoder.layers if type(l) == LinearLayer) == 16, \"Wrong size of the bottleneck\"\n",
    "\n",
    "\"ok\""
   ]
  },
  {
   "cell_type": "markdown",
   "metadata": {},
   "source": [
    "### b) Train the Autoencoder\n",
    "\n",
    "The next step is to train the autoencoder on the MNIST dataset via minibatch gradient descend.\n",
    "\n",
    "Implement the training of a batch. \n",
    "The incoming batches of images have a shape of (batch_size, 28, 28). To process them in a linear layer, you first need to reshape them to (batch_size, 28 * 28).\n",
    "Then, use the `train` method of the implemented `FeedForwardNetwork` to train the batch."
   ]
  },
  {
   "cell_type": "code",
   "execution_count": 154,
   "metadata": {},
   "outputs": [
    {
     "data": {
      "application/vnd.jupyter.widget-view+json": {
       "model_id": "9bea782582df4c6e85140ee24391aa63",
       "version_major": 2,
       "version_minor": 0
      },
      "text/plain": [
       "HBox(children=(HTML(value=''), FloatProgress(value=0.0, max=20.0), HTML(value='')))"
      ]
     },
     "metadata": {},
     "output_type": "display_data"
    },
    {
     "name": "stdout",
     "output_type": "stream",
     "text": [
      "\n"
     ]
    },
    {
     "data": {
      "image/png": "[encoded data removed]",
      "text/plain": [
       "<Figure size 432x288 with 1 Axes>"
      ]
     },
     "metadata": {
      "needs_background": "light"
     },
     "output_type": "display_data"
    }
   ],
   "source": [
    "epochs = 20\n",
    "\n",
    "losses = np.empty((epochs, 2))\n",
    "with tqdm(range(epochs)) as pbar:\n",
    "    for epoch in pbar:\n",
    "        running_loss = 0.0\n",
    "        for batch, _ in data_loader:\n",
    "            # ********************\n",
    "            # TODO Reshape and train batch\n",
    "            # batch = \n",
    "            \n",
    "            batch = batch.numpy()\n",
    "            batch = batch.reshape(-1,28*28)\n",
    "            \n",
    "            autoencoder.train(batch,batch,0.00048)\n",
    "            # ********************\n",
    "\n",
    "            running_loss += np.sum((autoencoder.layers[-1].output - batch)**2)\n",
    "        \n",
    "        # Log losses and update progress bar\n",
    "        train_loss = running_loss/len(mnist)\n",
    "        validation_loss = np.sum(np.mean((autoencoder.forward(mnist_test.reshape(-1, 28*28))-mnist_test.reshape(-1, 28*28))**2, axis=0))\n",
    "        losses[epoch] = [train_loss, validation_loss]\n",
    "        pbar.set_description(f\"Loss {train_loss:.02f}/{validation_loss:.02f}\")\n",
    "\n",
    "# Save model\n",
    "with open(\"solution/a2b.pickle\", \"wb\") as f:\n",
    "    pickle.dump(autoencoder, f)\n",
    "\n",
    "# Visualize losses\n",
    "losses = np.array(losses)\n",
    "plt.plot(np.arange(len(losses)), losses[:,0], label=\"train\")\n",
    "plt.plot(np.arange(len(losses)), losses[:,1], label=\"validation\")\n",
    "plt.legend()\n",
    "plt.xlabel(\"epoch\")\n",
    "plt.ylabel(\"MSE\")\n",
    "plt.tight_layout()\n",
    "plt.savefig(\"solution/a2b-train.png\")"
   ]
  },
  {
   "cell_type": "code",
   "execution_count": 155,
   "metadata": {},
   "outputs": [
    {
     "data": {
      "image/png": "[encoded data removed]",
      "text/plain": [
       "<Figure size 864x432 with 32 Axes>"
      ]
     },
     "metadata": {
      "needs_background": "light"
     },
     "output_type": "display_data"
    }
   ],
   "source": [
    "# Show reconstruction\n",
    "plt.figure(figsize=(12,6))\n",
    "for i in range(16):\n",
    "    # Show image\n",
    "    plt.subplot(4,8,2*i+1)\n",
    "    plt.imshow(mnist[i][0].reshape((28,28)), cmap=\"gray\")\n",
    "    plt.axis(\"off\")\n",
    "\n",
    "    # Show reconstruction\n",
    "    plt.subplot(4,8, 2*i+2)\n",
    "    plt.imshow(autoencoder.forward(mnist[i][0].reshape(28*28)).reshape(28,28), cmap=\"gray\", vmin=0, vmax=1)\n",
    "    plt.axis(\"off\")\n",
    "plt.tight_layout()\n",
    "plt.savefig(\"solution/a2b-rec.png\")"
   ]
  },
  {
   "cell_type": "markdown",
   "metadata": {},
   "source": [
    "### c) Interpolation"
   ]
  },
  {
   "cell_type": "code",
   "execution_count": 156,
   "metadata": {},
   "outputs": [
    {
     "data": {
      "image/png": "[encoded data removed]",
      "text/plain": [
       "<Figure size 1152x144 with 10 Axes>"
      ]
     },
     "metadata": {
      "needs_background": "light"
     },
     "output_type": "display_data"
    }
   ],
   "source": [
    "# ********************\n",
    "# TODO Split the autoencoder at the bottleneck into encoder and decoder \n",
    "# encoder = FeedForwardNet(autoencoder.layers[:3])\n",
    "# decoder = FeedForwardNet(autoencoder.layers[3:])\n",
    "\n",
    "encoder = FeedForwardNet(autoencoder.layers[:3])\n",
    "decoder = FeedForwardNet(autoencoder.layers[3:])\n",
    "\n",
    "# ********************\n",
    "\n",
    "#  Choose two images \n",
    "image_a = mnist[5][0]\n",
    "image_b = mnist[4][0]\n",
    "\n",
    "# Compute their latent representations\n",
    "latent_a = encoder.forward(image_a.reshape(28*28))\n",
    "latent_b = encoder.forward(image_b.reshape(28*28))\n",
    "\n",
    "\n",
    "steps=10\n",
    "plt.figure(figsize=(16,2))\n",
    "for i, f in enumerate(np.linspace(0, 1, steps)):\n",
    "    plt.subplot(1, steps, i+1)\n",
    "    \n",
    "    # ********************\n",
    "    # TODO Interpolate between latent_a and latent_b with the mixing factor f\n",
    "    latent = (1-f)*latent_a + (f*latent_b)\n",
    "\n",
    "\n",
    "\n",
    "    # ********************\n",
    "    \n",
    "    plt.imshow(decoder.forward(latent).reshape(28, 28), cmap=\"gray\", vmin=0, vmax=1)\n",
    "    plt.axis(\"off\")\n",
    "plt.tight_layout()\n",
    "plt.savefig(\"solution/a2c.png\")"
   ]
  },
  {
   "cell_type": "markdown",
   "metadata": {},
   "source": [
    "### d) Latent space sampling"
   ]
  },
  {
   "cell_type": "code",
   "execution_count": 157,
   "metadata": {},
   "outputs": [
    {
     "data": {
      "image/png": "[encoded data removed]",
      "text/plain": [
       "<Figure size 1152x144 with 10 Axes>"
      ]
     },
     "metadata": {
      "needs_background": "light"
     },
     "output_type": "display_data"
    }
   ],
   "source": [
    "# Compute mean and std of latent states\n",
    "latent_space = encoder.forward(mnist_test.reshape(-1, 28*28))\n",
    "latent_space_mean = np.mean(latent_space, axis=0)\n",
    "latent_space_std = np.std(latent_space, axis=0)\n",
    "\n",
    "# Sample from latent distribution\n",
    "plt.figure(figsize=(16,2))\n",
    "for i, f in enumerate(np.linspace(0,1,steps)):\n",
    "    plt.subplot(1, steps, i+1)\n",
    "    \n",
    "    # ********************\n",
    "    # TODO Sample from the normal distribution with latent_space_mean and latent_space_std\n",
    "    \n",
    "    latent = np.random.normal(latent_space_mean,latent_space_std)\n",
    "\n",
    "\n",
    "\n",
    "    # ********************\n",
    "    \n",
    "    plt.imshow(decoder.forward(latent).reshape(28, 28), cmap=\"gray\", vmin=0, vmax=1)\n",
    "    plt.axis(\"off\")\n",
    "plt.tight_layout()\n",
    "plt.savefig(\"solution/a2d.png\")"
   ]
  },
  {
   "cell_type": "code",
   "execution_count": null,
   "metadata": {},
   "outputs": [],
   "source": []
  }
 ],
 "metadata": {
  "kernelspec": {
   "display_name": "Python 3",
   "language": "python",
   "name": "python3"
  },
  "language_info": {
   "codemirror_mode": {
    "name": "ipython",
    "version": 3
   },
   "file_extension": ".py",
   "mimetype": "text/x-python",
   "name": "python",
   "nbconvert_exporter": "python",
   "pygments_lexer": "ipython3",
   "version": "3.8.5"
  }
 },
 "nbformat": 4,
 "nbformat_minor": 4
}
